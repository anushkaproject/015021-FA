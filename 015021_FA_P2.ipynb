{
  "metadata": {
    "kernelspec": {
      "language": "python",
      "display_name": "Python 3",
      "name": "python3"
    },
    "language_info": {
      "name": "python",
      "version": "3.7.10",
      "mimetype": "text/x-python",
      "codemirror_mode": {
        "name": "ipython",
        "version": 3
      },
      "pygments_lexer": "ipython3",
      "nbconvert_exporter": "python",
      "file_extension": ".py"
    },
    "colab": {
      "name": "015021_FA_P2.ipynb",
      "provenance": []
    }
  },
  "nbformat_minor": 0,
  "nbformat": 4,
  "cells": [
    {
      "cell_type": "code",
      "source": [
        "import pandas as pd\n",
        "\n",
        "# Importing the dataset\n",
        "DATASET_COLUMNS=['target','ids','date','flag','user','text']\n",
        "DATASET_ENCODING = \"ISO-8859-1\"\n",
        "df = pd.read_csv('../input/sentiment140/training.1600000.processed.noemoticon.csv', encoding=DATASET_ENCODING, names=DATASET_COLUMNS)\n",
        "df.head()"
      ],
      "metadata": {
        "_uuid": "8f2839f25d086af736a60e9eeb907d3b93b6e0e5",
        "_cell_guid": "b1076dfc-b9ad-4769-8c92-a6c4dae69d19",
        "execution": {
          "iopub.status.busy": "2021-08-26T05:50:23.835105Z",
          "iopub.execute_input": "2021-08-26T05:50:23.835595Z",
          "iopub.status.idle": "2021-08-26T05:50:29.793410Z",
          "shell.execute_reply.started": "2021-08-26T05:50:23.835487Z",
          "shell.execute_reply": "2021-08-26T05:50:29.792635Z"
        },
        "trusted": true,
        "id": "bUUlOjKSwZ4p",
        "outputId": "b08fb004-dd72-4fbd-838f-46183c3a535b"
      },
      "execution_count": null,
      "outputs": [
        {
          "execution_count": 1,
          "output_type": "execute_result",
          "data": {
            "text/plain": "   target         ids                          date      flag  \\\n0       0  1467810369  Mon Apr 06 22:19:45 PDT 2009  NO_QUERY   \n1       0  1467810672  Mon Apr 06 22:19:49 PDT 2009  NO_QUERY   \n2       0  1467810917  Mon Apr 06 22:19:53 PDT 2009  NO_QUERY   \n3       0  1467811184  Mon Apr 06 22:19:57 PDT 2009  NO_QUERY   \n4       0  1467811193  Mon Apr 06 22:19:57 PDT 2009  NO_QUERY   \n\n              user                                               text  \n0  _TheSpecialOne_  @switchfoot http://twitpic.com/2y1zl - Awww, t...  \n1    scotthamilton  is upset that he can't update his Facebook by ...  \n2         mattycus  @Kenichan I dived many times for the ball. Man...  \n3          ElleCTF    my whole body feels itchy and like its on fire   \n4           Karoli  @nationwideclass no, it's not behaving at all....  ",
            "text/html": "<div>\n<style scoped>\n    .dataframe tbody tr th:only-of-type {\n        vertical-align: middle;\n    }\n\n    .dataframe tbody tr th {\n        vertical-align: top;\n    }\n\n    .dataframe thead th {\n        text-align: right;\n    }\n</style>\n<table border=\"1\" class=\"dataframe\">\n  <thead>\n    <tr style=\"text-align: right;\">\n      <th></th>\n      <th>target</th>\n      <th>ids</th>\n      <th>date</th>\n      <th>flag</th>\n      <th>user</th>\n      <th>text</th>\n    </tr>\n  </thead>\n  <tbody>\n    <tr>\n      <th>0</th>\n      <td>0</td>\n      <td>1467810369</td>\n      <td>Mon Apr 06 22:19:45 PDT 2009</td>\n      <td>NO_QUERY</td>\n      <td>_TheSpecialOne_</td>\n      <td>@switchfoot http://twitpic.com/2y1zl - Awww, t...</td>\n    </tr>\n    <tr>\n      <th>1</th>\n      <td>0</td>\n      <td>1467810672</td>\n      <td>Mon Apr 06 22:19:49 PDT 2009</td>\n      <td>NO_QUERY</td>\n      <td>scotthamilton</td>\n      <td>is upset that he can't update his Facebook by ...</td>\n    </tr>\n    <tr>\n      <th>2</th>\n      <td>0</td>\n      <td>1467810917</td>\n      <td>Mon Apr 06 22:19:53 PDT 2009</td>\n      <td>NO_QUERY</td>\n      <td>mattycus</td>\n      <td>@Kenichan I dived many times for the ball. Man...</td>\n    </tr>\n    <tr>\n      <th>3</th>\n      <td>0</td>\n      <td>1467811184</td>\n      <td>Mon Apr 06 22:19:57 PDT 2009</td>\n      <td>NO_QUERY</td>\n      <td>ElleCTF</td>\n      <td>my whole body feels itchy and like its on fire</td>\n    </tr>\n    <tr>\n      <th>4</th>\n      <td>0</td>\n      <td>1467811193</td>\n      <td>Mon Apr 06 22:19:57 PDT 2009</td>\n      <td>NO_QUERY</td>\n      <td>Karoli</td>\n      <td>@nationwideclass no, it's not behaving at all....</td>\n    </tr>\n  </tbody>\n</table>\n</div>"
          },
          "metadata": {}
        }
      ]
    },
    {
      "cell_type": "code",
      "source": [
        "data=df[['text','target']]\n",
        "data.head()"
      ],
      "metadata": {
        "execution": {
          "iopub.status.busy": "2021-08-26T05:50:29.794719Z",
          "iopub.execute_input": "2021-08-26T05:50:29.794996Z",
          "iopub.status.idle": "2021-08-26T05:50:29.837406Z",
          "shell.execute_reply.started": "2021-08-26T05:50:29.794970Z",
          "shell.execute_reply": "2021-08-26T05:50:29.836454Z"
        },
        "trusted": true,
        "id": "lMPKMZEzwZ47",
        "outputId": "909796cf-62e9-4f33-f8dd-4fb1eb9ee60d"
      },
      "execution_count": null,
      "outputs": [
        {
          "execution_count": 2,
          "output_type": "execute_result",
          "data": {
            "text/plain": "                                                text  target\n0  @switchfoot http://twitpic.com/2y1zl - Awww, t...       0\n1  is upset that he can't update his Facebook by ...       0\n2  @Kenichan I dived many times for the ball. Man...       0\n3    my whole body feels itchy and like its on fire        0\n4  @nationwideclass no, it's not behaving at all....       0",
            "text/html": "<div>\n<style scoped>\n    .dataframe tbody tr th:only-of-type {\n        vertical-align: middle;\n    }\n\n    .dataframe tbody tr th {\n        vertical-align: top;\n    }\n\n    .dataframe thead th {\n        text-align: right;\n    }\n</style>\n<table border=\"1\" class=\"dataframe\">\n  <thead>\n    <tr style=\"text-align: right;\">\n      <th></th>\n      <th>text</th>\n      <th>target</th>\n    </tr>\n  </thead>\n  <tbody>\n    <tr>\n      <th>0</th>\n      <td>@switchfoot http://twitpic.com/2y1zl - Awww, t...</td>\n      <td>0</td>\n    </tr>\n    <tr>\n      <th>1</th>\n      <td>is upset that he can't update his Facebook by ...</td>\n      <td>0</td>\n    </tr>\n    <tr>\n      <th>2</th>\n      <td>@Kenichan I dived many times for the ball. Man...</td>\n      <td>0</td>\n    </tr>\n    <tr>\n      <th>3</th>\n      <td>my whole body feels itchy and like its on fire</td>\n      <td>0</td>\n    </tr>\n    <tr>\n      <th>4</th>\n      <td>@nationwideclass no, it's not behaving at all....</td>\n      <td>0</td>\n    </tr>\n  </tbody>\n</table>\n</div>"
          },
          "metadata": {}
        }
      ]
    },
    {
      "cell_type": "code",
      "source": [
        "data['target'] = data['target'].replace(4,1)\n",
        "data['target'].value_counts()"
      ],
      "metadata": {
        "execution": {
          "iopub.status.busy": "2021-08-26T05:50:29.839415Z",
          "iopub.execute_input": "2021-08-26T05:50:29.839755Z",
          "iopub.status.idle": "2021-08-26T05:50:29.873424Z",
          "shell.execute_reply.started": "2021-08-26T05:50:29.839720Z",
          "shell.execute_reply": "2021-08-26T05:50:29.872478Z"
        },
        "trusted": true,
        "id": "HOy2GKprwZ5A",
        "outputId": "2be7fe83-743d-46ab-ea5a-e07eb3665664"
      },
      "execution_count": null,
      "outputs": [
        {
          "name": "stderr",
          "text": "/opt/conda/lib/python3.7/site-packages/ipykernel_launcher.py:1: SettingWithCopyWarning: \nA value is trying to be set on a copy of a slice from a DataFrame.\nTry using .loc[row_indexer,col_indexer] = value instead\n\nSee the caveats in the documentation: https://pandas.pydata.org/pandas-docs/stable/user_guide/indexing.html#returning-a-view-versus-a-copy\n  \"\"\"Entry point for launching an IPython kernel.\n",
          "output_type": "stream"
        },
        {
          "execution_count": 3,
          "output_type": "execute_result",
          "data": {
            "text/plain": "1    800000\n0    800000\nName: target, dtype: int64"
          },
          "metadata": {}
        }
      ]
    },
    {
      "cell_type": "code",
      "source": [
        "data_pos = data[data['target'] == 1]\n",
        "data_pos.head()"
      ],
      "metadata": {
        "execution": {
          "iopub.status.busy": "2021-08-26T05:50:29.875162Z",
          "iopub.execute_input": "2021-08-26T05:50:29.875526Z",
          "iopub.status.idle": "2021-08-26T05:50:29.939548Z",
          "shell.execute_reply.started": "2021-08-26T05:50:29.875488Z",
          "shell.execute_reply": "2021-08-26T05:50:29.938724Z"
        },
        "trusted": true,
        "id": "5oKeK3v5wZ5D",
        "outputId": "6b06e3a5-8c5f-4226-9b8f-ad3fda25287c"
      },
      "execution_count": null,
      "outputs": [
        {
          "execution_count": 4,
          "output_type": "execute_result",
          "data": {
            "text/plain": "                                                     text  target\n800000       I LOVE @Health4UandPets u guys r the best!!        1\n800001  im meeting up with one of my besties tonight! ...       1\n800002  @DaRealSunisaKim Thanks for the Twitter add, S...       1\n800003  Being sick can be really cheap when it hurts t...       1\n800004    @LovesBrooklyn2 he has that effect on everyone        1",
            "text/html": "<div>\n<style scoped>\n    .dataframe tbody tr th:only-of-type {\n        vertical-align: middle;\n    }\n\n    .dataframe tbody tr th {\n        vertical-align: top;\n    }\n\n    .dataframe thead th {\n        text-align: right;\n    }\n</style>\n<table border=\"1\" class=\"dataframe\">\n  <thead>\n    <tr style=\"text-align: right;\">\n      <th></th>\n      <th>text</th>\n      <th>target</th>\n    </tr>\n  </thead>\n  <tbody>\n    <tr>\n      <th>800000</th>\n      <td>I LOVE @Health4UandPets u guys r the best!!</td>\n      <td>1</td>\n    </tr>\n    <tr>\n      <th>800001</th>\n      <td>im meeting up with one of my besties tonight! ...</td>\n      <td>1</td>\n    </tr>\n    <tr>\n      <th>800002</th>\n      <td>@DaRealSunisaKim Thanks for the Twitter add, S...</td>\n      <td>1</td>\n    </tr>\n    <tr>\n      <th>800003</th>\n      <td>Being sick can be really cheap when it hurts t...</td>\n      <td>1</td>\n    </tr>\n    <tr>\n      <th>800004</th>\n      <td>@LovesBrooklyn2 he has that effect on everyone</td>\n      <td>1</td>\n    </tr>\n  </tbody>\n</table>\n</div>"
          },
          "metadata": {}
        }
      ]
    },
    {
      "cell_type": "code",
      "source": [
        "data_neg = data[data['target'] == 0]\n",
        "data_neg.head()"
      ],
      "metadata": {
        "execution": {
          "iopub.status.busy": "2021-08-26T05:50:29.940937Z",
          "iopub.execute_input": "2021-08-26T05:50:29.941283Z",
          "iopub.status.idle": "2021-08-26T05:50:29.987636Z",
          "shell.execute_reply.started": "2021-08-26T05:50:29.941247Z",
          "shell.execute_reply": "2021-08-26T05:50:29.986646Z"
        },
        "trusted": true,
        "id": "nHz6wRcNwZ5G",
        "outputId": "91e69879-292e-4a5b-b3e6-9bccc6cef2a9"
      },
      "execution_count": null,
      "outputs": [
        {
          "execution_count": 5,
          "output_type": "execute_result",
          "data": {
            "text/plain": "                                                text  target\n0  @switchfoot http://twitpic.com/2y1zl - Awww, t...       0\n1  is upset that he can't update his Facebook by ...       0\n2  @Kenichan I dived many times for the ball. Man...       0\n3    my whole body feels itchy and like its on fire        0\n4  @nationwideclass no, it's not behaving at all....       0",
            "text/html": "<div>\n<style scoped>\n    .dataframe tbody tr th:only-of-type {\n        vertical-align: middle;\n    }\n\n    .dataframe tbody tr th {\n        vertical-align: top;\n    }\n\n    .dataframe thead th {\n        text-align: right;\n    }\n</style>\n<table border=\"1\" class=\"dataframe\">\n  <thead>\n    <tr style=\"text-align: right;\">\n      <th></th>\n      <th>text</th>\n      <th>target</th>\n    </tr>\n  </thead>\n  <tbody>\n    <tr>\n      <th>0</th>\n      <td>@switchfoot http://twitpic.com/2y1zl - Awww, t...</td>\n      <td>0</td>\n    </tr>\n    <tr>\n      <th>1</th>\n      <td>is upset that he can't update his Facebook by ...</td>\n      <td>0</td>\n    </tr>\n    <tr>\n      <th>2</th>\n      <td>@Kenichan I dived many times for the ball. Man...</td>\n      <td>0</td>\n    </tr>\n    <tr>\n      <th>3</th>\n      <td>my whole body feels itchy and like its on fire</td>\n      <td>0</td>\n    </tr>\n    <tr>\n      <th>4</th>\n      <td>@nationwideclass no, it's not behaving at all....</td>\n      <td>0</td>\n    </tr>\n  </tbody>\n</table>\n</div>"
          },
          "metadata": {}
        }
      ]
    },
    {
      "cell_type": "code",
      "source": [
        "import numpy as np\n",
        "data_pos = data_pos.sample(100000)\n",
        "data_neg = data_neg.sample(100000)\n",
        "dataset = pd.concat([data_pos, data_neg])\n",
        "dataset = dataset.iloc[np.random.permutation(len(dataset))]\n",
        "dataset=dataset.reset_index(drop=True)\n",
        "dataset.head()"
      ],
      "metadata": {
        "execution": {
          "iopub.status.busy": "2021-08-26T05:50:29.989068Z",
          "iopub.execute_input": "2021-08-26T05:50:29.989423Z",
          "iopub.status.idle": "2021-08-26T05:50:30.120267Z",
          "shell.execute_reply.started": "2021-08-26T05:50:29.989387Z",
          "shell.execute_reply": "2021-08-26T05:50:30.119302Z"
        },
        "trusted": true,
        "id": "S4xQPfuzwZ5J",
        "outputId": "28f9f486-b692-4c6e-964f-05f9eee1cf36"
      },
      "execution_count": null,
      "outputs": [
        {
          "execution_count": 6,
          "output_type": "execute_result",
          "data": {
            "text/plain": "                                                text  target\n0  Ordered our new washing machine to replace the...       0\n1  @bsdgypsy You can't have me unless you're prep...       1\n2  @GreerMcDonald good luck on the whole socket i...       1\n3  @arjunghosh Ya i know. I must be one of her gr...       0\n4  I gotta go already  Tweet you all laterrrrrrrr...       0",
            "text/html": "<div>\n<style scoped>\n    .dataframe tbody tr th:only-of-type {\n        vertical-align: middle;\n    }\n\n    .dataframe tbody tr th {\n        vertical-align: top;\n    }\n\n    .dataframe thead th {\n        text-align: right;\n    }\n</style>\n<table border=\"1\" class=\"dataframe\">\n  <thead>\n    <tr style=\"text-align: right;\">\n      <th></th>\n      <th>text</th>\n      <th>target</th>\n    </tr>\n  </thead>\n  <tbody>\n    <tr>\n      <th>0</th>\n      <td>Ordered our new washing machine to replace the...</td>\n      <td>0</td>\n    </tr>\n    <tr>\n      <th>1</th>\n      <td>@bsdgypsy You can't have me unless you're prep...</td>\n      <td>1</td>\n    </tr>\n    <tr>\n      <th>2</th>\n      <td>@GreerMcDonald good luck on the whole socket i...</td>\n      <td>1</td>\n    </tr>\n    <tr>\n      <th>3</th>\n      <td>@arjunghosh Ya i know. I must be one of her gr...</td>\n      <td>0</td>\n    </tr>\n    <tr>\n      <th>4</th>\n      <td>I gotta go already  Tweet you all laterrrrrrrr...</td>\n      <td>0</td>\n    </tr>\n  </tbody>\n</table>\n</div>"
          },
          "metadata": {}
        }
      ]
    },
    {
      "cell_type": "code",
      "source": [
        "X=list(dataset['text'])\n",
        "X[:5]"
      ],
      "metadata": {
        "execution": {
          "iopub.status.busy": "2021-08-26T05:50:30.121707Z",
          "iopub.execute_input": "2021-08-26T05:50:30.122073Z",
          "iopub.status.idle": "2021-08-26T05:50:30.165530Z",
          "shell.execute_reply.started": "2021-08-26T05:50:30.122036Z",
          "shell.execute_reply": "2021-08-26T05:50:30.164569Z"
        },
        "trusted": true,
        "id": "tXlLCT8HwZ5M",
        "outputId": "285b6804-fb98-4cad-d96d-6fa330994aaf"
      },
      "execution_count": null,
      "outputs": [
        {
          "execution_count": 7,
          "output_type": "execute_result",
          "data": {
            "text/plain": "['Ordered our new washing machine to replace the broken one. Another ï¿½350 lighter now  it is an 8kg one though!',\n \"@bsdgypsy You can't have me unless you're prepared to take down Kirstie... And her followers... I WISH YOU LUCK! :p \",\n '@GreerMcDonald good luck on the whole socket issue...  even in taiwan I struggled!',\n '@arjunghosh Ya i know. I must be one of her greatest fans, too bad she never followed me back ',\n 'I gotta go already  Tweet you all laterrrrrrrrrrrr!']"
          },
          "metadata": {}
        }
      ]
    },
    {
      "cell_type": "code",
      "source": [
        "y=list(dataset['target'])\n",
        "y[:5]"
      ],
      "metadata": {
        "execution": {
          "iopub.status.busy": "2021-08-26T05:50:30.167290Z",
          "iopub.execute_input": "2021-08-26T05:50:30.167746Z",
          "iopub.status.idle": "2021-08-26T05:50:30.197257Z",
          "shell.execute_reply.started": "2021-08-26T05:50:30.167710Z",
          "shell.execute_reply": "2021-08-26T05:50:30.196274Z"
        },
        "trusted": true,
        "id": "4m2PbsEKwZ5Q",
        "outputId": "797cab47-4977-4544-aa13-5cb5ba91ca89"
      },
      "execution_count": null,
      "outputs": [
        {
          "execution_count": 8,
          "output_type": "execute_result",
          "data": {
            "text/plain": "[0, 1, 1, 0, 0]"
          },
          "metadata": {}
        }
      ]
    },
    {
      "cell_type": "code",
      "source": [
        "from sklearn.model_selection import train_test_split\n",
        "X_train, X_test, y_train, y_test = train_test_split(X, y, test_size = 0.20, random_state = 42,stratify=y)\n",
        "X_train[:5]"
      ],
      "metadata": {
        "execution": {
          "iopub.status.busy": "2021-08-26T05:50:30.200442Z",
          "iopub.execute_input": "2021-08-26T05:50:30.200750Z",
          "iopub.status.idle": "2021-08-26T05:50:31.268721Z",
          "shell.execute_reply.started": "2021-08-26T05:50:30.200720Z",
          "shell.execute_reply": "2021-08-26T05:50:31.267824Z"
        },
        "trusted": true,
        "id": "JyxvTVaMwZ5U",
        "outputId": "ab524668-5e53-4e5e-f6fa-05ff516743bf"
      },
      "execution_count": null,
      "outputs": [
        {
          "execution_count": 9,
          "output_type": "execute_result",
          "data": {
            "text/plain": "['good morninggg, so tired ',\n 'bored. wishing i was in philly for the roh tapings ',\n 'ehhh. last day in math@bio. be home @  1. tomorrow, lastday at the annex everrrr ',\n \"Holy Burritos! I don't want to go to church..  I want to sit at home and... get fat. lol.\",\n '@loonyhiker what a night!  hope you get a nap today ']"
          },
          "metadata": {}
        }
      ]
    },
    {
      "cell_type": "code",
      "source": [
        "!pip install transformers"
      ],
      "metadata": {
        "_kg_hide-output": true,
        "execution": {
          "iopub.status.busy": "2021-08-26T05:50:31.270301Z",
          "iopub.execute_input": "2021-08-26T05:50:31.270635Z",
          "iopub.status.idle": "2021-08-26T05:50:38.614844Z",
          "shell.execute_reply.started": "2021-08-26T05:50:31.270601Z",
          "shell.execute_reply": "2021-08-26T05:50:38.613909Z"
        },
        "trusted": true,
        "id": "bsc-VirNwZ5Y",
        "outputId": "deef9b5f-4471-49d1-8557-0789246bc536"
      },
      "execution_count": null,
      "outputs": [
        {
          "name": "stdout",
          "text": "Requirement already satisfied: transformers in /opt/conda/lib/python3.7/site-packages (4.5.1)\nRequirement already satisfied: tokenizers<0.11,>=0.10.1 in /opt/conda/lib/python3.7/site-packages (from transformers) (0.10.2)\nRequirement already satisfied: requests in /opt/conda/lib/python3.7/site-packages (from transformers) (2.25.1)\nRequirement already satisfied: filelock in /opt/conda/lib/python3.7/site-packages (from transformers) (3.0.12)\nRequirement already satisfied: regex!=2019.12.17 in /opt/conda/lib/python3.7/site-packages (from transformers) (2021.3.17)\nRequirement already satisfied: importlib-metadata in /opt/conda/lib/python3.7/site-packages (from transformers) (3.4.0)\nRequirement already satisfied: numpy>=1.17 in /opt/conda/lib/python3.7/site-packages (from transformers) (1.19.5)\nRequirement already satisfied: sacremoses in /opt/conda/lib/python3.7/site-packages (from transformers) (0.0.45)\nRequirement already satisfied: packaging in /opt/conda/lib/python3.7/site-packages (from transformers) (20.9)\nRequirement already satisfied: tqdm>=4.27 in /opt/conda/lib/python3.7/site-packages (from transformers) (4.59.0)\nRequirement already satisfied: typing-extensions>=3.6.4 in /opt/conda/lib/python3.7/site-packages (from importlib-metadata->transformers) (3.7.4.3)\nRequirement already satisfied: zipp>=0.5 in /opt/conda/lib/python3.7/site-packages (from importlib-metadata->transformers) (3.4.1)\nRequirement already satisfied: pyparsing>=2.0.2 in /opt/conda/lib/python3.7/site-packages (from packaging->transformers) (2.4.7)\nRequirement already satisfied: chardet<5,>=3.0.2 in /opt/conda/lib/python3.7/site-packages (from requests->transformers) (4.0.0)\nRequirement already satisfied: idna<3,>=2.5 in /opt/conda/lib/python3.7/site-packages (from requests->transformers) (2.10)\nRequirement already satisfied: certifi>=2017.4.17 in /opt/conda/lib/python3.7/site-packages (from requests->transformers) (2020.12.5)\nRequirement already satisfied: urllib3<1.27,>=1.21.1 in /opt/conda/lib/python3.7/site-packages (from requests->transformers) (1.26.4)\nRequirement already satisfied: click in /opt/conda/lib/python3.7/site-packages (from sacremoses->transformers) (7.1.2)\nRequirement already satisfied: joblib in /opt/conda/lib/python3.7/site-packages (from sacremoses->transformers) (1.0.1)\nRequirement already satisfied: six in /opt/conda/lib/python3.7/site-packages (from sacremoses->transformers) (1.15.0)\n",
          "output_type": "stream"
        }
      ]
    },
    {
      "cell_type": "code",
      "source": [
        "from transformers import DistilBertTokenizerFast\n",
        "tokenizer = DistilBertTokenizerFast.from_pretrained('distilbert-base-uncased')"
      ],
      "metadata": {
        "execution": {
          "iopub.status.busy": "2021-08-26T05:50:38.617448Z",
          "iopub.execute_input": "2021-08-26T05:50:38.617814Z",
          "iopub.status.idle": "2021-08-26T05:50:43.391947Z",
          "shell.execute_reply.started": "2021-08-26T05:50:38.617763Z",
          "shell.execute_reply": "2021-08-26T05:50:43.391108Z"
        },
        "trusted": true,
        "colab": {
          "referenced_widgets": [
            "54596947920d4183a18c4db606bb2b1c",
            "f788c0f2a4654609b946ae7beeda99b4",
            "d97e859c501d4b5f829339c3b0c8f733"
          ]
        },
        "id": "eWtkfhZMwZ5a",
        "outputId": "4ad6d826-6e20-41d3-a4f7-2d36f779e5d9"
      },
      "execution_count": null,
      "outputs": [
        {
          "output_type": "display_data",
          "data": {
            "text/plain": "Downloading:   0%|          | 0.00/232k [00:00<?, ?B/s]",
            "application/vnd.jupyter.widget-view+json": {
              "version_major": 2,
              "version_minor": 0,
              "model_id": "54596947920d4183a18c4db606bb2b1c"
            }
          },
          "metadata": {}
        },
        {
          "output_type": "display_data",
          "data": {
            "text/plain": "Downloading:   0%|          | 0.00/466k [00:00<?, ?B/s]",
            "application/vnd.jupyter.widget-view+json": {
              "version_major": 2,
              "version_minor": 0,
              "model_id": "f788c0f2a4654609b946ae7beeda99b4"
            }
          },
          "metadata": {}
        },
        {
          "output_type": "display_data",
          "data": {
            "text/plain": "Downloading:   0%|          | 0.00/28.0 [00:00<?, ?B/s]",
            "application/vnd.jupyter.widget-view+json": {
              "version_major": 2,
              "version_minor": 0,
              "model_id": "d97e859c501d4b5f829339c3b0c8f733"
            }
          },
          "metadata": {}
        }
      ]
    },
    {
      "cell_type": "code",
      "source": [
        "train_encodings = tokenizer(X_train, truncation=True, padding=True)\n",
        "test_encodings = tokenizer(X_test, truncation=True, padding=True)"
      ],
      "metadata": {
        "execution": {
          "iopub.status.busy": "2021-08-26T05:50:43.393229Z",
          "iopub.execute_input": "2021-08-26T05:50:43.393590Z",
          "iopub.status.idle": "2021-08-26T05:51:03.631242Z",
          "shell.execute_reply.started": "2021-08-26T05:50:43.393553Z",
          "shell.execute_reply": "2021-08-26T05:51:03.630341Z"
        },
        "trusted": true,
        "id": "fJ5-5YdHwZ5b"
      },
      "execution_count": null,
      "outputs": []
    },
    {
      "cell_type": "code",
      "source": [
        "y_train[:5]"
      ],
      "metadata": {
        "execution": {
          "iopub.status.busy": "2021-08-26T05:51:03.632527Z",
          "iopub.execute_input": "2021-08-26T05:51:03.632883Z",
          "iopub.status.idle": "2021-08-26T05:51:03.638424Z",
          "shell.execute_reply.started": "2021-08-26T05:51:03.632847Z",
          "shell.execute_reply": "2021-08-26T05:51:03.637623Z"
        },
        "trusted": true,
        "id": "_vy0aEuXwZ5d",
        "outputId": "0b92d51e-3980-4bb4-dc38-71a894b6dcbc"
      },
      "execution_count": null,
      "outputs": [
        {
          "execution_count": 13,
          "output_type": "execute_result",
          "data": {
            "text/plain": "[0, 0, 1, 0, 1]"
          },
          "metadata": {}
        }
      ]
    },
    {
      "cell_type": "code",
      "source": [
        "import tensorflow as tf\n",
        "\n",
        "train_dataset = tf.data.Dataset.from_tensor_slices((\n",
        "    dict(train_encodings),\n",
        "    y_train\n",
        "))\n",
        "\n",
        "test_dataset = tf.data.Dataset.from_tensor_slices((\n",
        "    dict(test_encodings),\n",
        "    y_test\n",
        "))"
      ],
      "metadata": {
        "execution": {
          "iopub.status.busy": "2021-08-26T05:51:03.639724Z",
          "iopub.execute_input": "2021-08-26T05:51:03.640280Z",
          "iopub.status.idle": "2021-08-26T05:54:32.326315Z",
          "shell.execute_reply.started": "2021-08-26T05:51:03.640243Z",
          "shell.execute_reply": "2021-08-26T05:54:32.325279Z"
        },
        "trusted": true,
        "id": "9jnH9Gt_wZ5f"
      },
      "execution_count": null,
      "outputs": []
    },
    {
      "cell_type": "code",
      "source": [
        "from transformers import TFDistilBertForSequenceClassification, TFTrainer, TFTrainingArguments\n",
        "\n",
        "training_args = TFTrainingArguments(\n",
        "    output_dir='./results',          # output directory\n",
        "    num_train_epochs=2,              # total number of training epochs\n",
        "    per_device_train_batch_size=64,  # batch size per device during training\n",
        "    per_device_eval_batch_size=64,   # batch size for evaluation\n",
        "    warmup_steps=500,                # number of warmup steps for learning rate scheduler\n",
        "    weight_decay=0.1,               # strength of weight decay\n",
        "    logging_steps=100,\n",
        ")"
      ],
      "metadata": {
        "execution": {
          "iopub.status.busy": "2021-08-26T05:54:32.327673Z",
          "iopub.execute_input": "2021-08-26T05:54:32.328061Z",
          "iopub.status.idle": "2021-08-26T05:54:34.123891Z",
          "shell.execute_reply.started": "2021-08-26T05:54:32.328024Z",
          "shell.execute_reply": "2021-08-26T05:54:34.122780Z"
        },
        "trusted": true,
        "id": "3Q94v0VQwZ5g"
      },
      "execution_count": null,
      "outputs": []
    },
    {
      "cell_type": "code",
      "source": [
        "with training_args.strategy.scope():\n",
        "    model = TFDistilBertForSequenceClassification.from_pretrained(\"distilbert-base-uncased\")\n",
        "\n",
        "trainer = TFTrainer(\n",
        "    model=model,                         # the instantiated \n",
        "    args=training_args,                  # training arguments, defined above\n",
        "    train_dataset=train_dataset,         # training dataset\n",
        "    eval_dataset=test_dataset             # evaluation dataset\n",
        ")\n",
        "\n",
        "trainer.train()"
      ],
      "metadata": {
        "id": "q4OXynZBw6-z"
      },
      "execution_count": null,
      "outputs": []
    },
    {
      "cell_type": "code",
      "source": [
        "trainer.evaluate(test_dataset)"
      ],
      "metadata": {
        "execution": {
          "iopub.status.busy": "2021-08-26T06:45:39.768274Z",
          "iopub.execute_input": "2021-08-26T06:45:39.768626Z",
          "iopub.status.idle": "2021-08-26T06:47:36.486535Z",
          "shell.execute_reply.started": "2021-08-26T06:45:39.768586Z",
          "shell.execute_reply": "2021-08-26T06:47:36.485781Z"
        },
        "trusted": true,
        "id": "FOgYsvndwZ5l",
        "outputId": "db98b9eb-8330-4f63-f3e9-46d6d85eeb4b"
      },
      "execution_count": null,
      "outputs": [
        {
          "execution_count": 17,
          "output_type": "execute_result",
          "data": {
            "text/plain": "{'eval_loss': 0.3736282470703125}"
          },
          "metadata": {}
        }
      ]
    },
    {
      "cell_type": "code",
      "source": [
        "trainer.predict(test_dataset)"
      ],
      "metadata": {
        "execution": {
          "iopub.status.busy": "2021-08-26T06:47:36.487866Z",
          "iopub.execute_input": "2021-08-26T06:47:36.488212Z",
          "iopub.status.idle": "2021-08-26T06:49:28.828846Z",
          "shell.execute_reply.started": "2021-08-26T06:47:36.488177Z",
          "shell.execute_reply": "2021-08-26T06:49:28.828043Z"
        },
        "trusted": true,
        "id": "Dgj0VyEVwZ5n",
        "outputId": "ec6e7320-5dee-401d-aa35-18a43b62314f"
      },
      "execution_count": null,
      "outputs": [
        {
          "execution_count": 18,
          "output_type": "execute_result",
          "data": {
            "text/plain": "PredictionOutput(predictions=array([[-1.4072479 ,  1.5133042 ],\n       [-2.5039785 ,  2.4736738 ],\n       [ 2.0901103 , -1.9074324 ],\n       ...,\n       [-0.22562572,  0.18473253],\n       [ 1.4977549 , -1.4138759 ],\n       [ 1.7289667 , -1.5435936 ]], dtype=float32), label_ids=array([1, 1, 0, ..., 1, 0, 0], dtype=int32), metrics={'eval_loss': 0.3736282470703125})"
          },
          "metadata": {}
        }
      ]
    },
    {
      "cell_type": "code",
      "source": [
        "from sklearn.metrics import classification_report\n",
        "print(classification_report(y_test,trainer.predict(test_dataset)[1]))"
      ],
      "metadata": {
        "execution": {
          "iopub.status.busy": "2021-08-26T06:49:28.830060Z",
          "iopub.execute_input": "2021-08-26T06:49:28.830394Z",
          "iopub.status.idle": "2021-08-26T06:51:21.395437Z",
          "shell.execute_reply.started": "2021-08-26T06:49:28.830365Z",
          "shell.execute_reply": "2021-08-26T06:51:21.394585Z"
        },
        "trusted": true,
        "id": "pQKnMOAIwZ5o",
        "outputId": "b1bbfeb6-b774-4b64-d094-356306896eca"
      },
      "execution_count": null,
      "outputs": [
        {
          "name": "stdout",
          "text": "              precision    recall  f1-score   support\n\n           0       1.00      1.00      1.00     20000\n           1       1.00      1.00      1.00     20000\n\n    accuracy                           1.00     40000\n   macro avg       1.00      1.00      1.00     40000\nweighted avg       1.00      1.00      1.00     40000\n\n",
          "output_type": "stream"
        }
      ]
    }
  ]
}